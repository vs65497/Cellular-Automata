{
  "nbformat": 4,
  "nbformat_minor": 0,
  "metadata": {
    "colab": {
      "provenance": [],
      "toc_visible": true,
      "authorship_tag": "ABX9TyMbZr/HfU4bLkrtckKUHqdg",
      "include_colab_link": true
    },
    "kernelspec": {
      "name": "python3",
      "display_name": "Python 3"
    },
    "language_info": {
      "name": "python"
    },
    "gpuClass": "standard"
  },
  "cells": [
    {
      "cell_type": "markdown",
      "metadata": {
        "id": "view-in-github",
        "colab_type": "text"
      },
      "source": [
        "<a href=\"https://colab.research.google.com/github/zanzivyr/game-of-life/blob/main/Game_of_Life.ipynb\" target=\"_parent\"><img src=\"https://colab.research.google.com/assets/colab-badge.svg\" alt=\"Open In Colab\"/></a>"
      ]
    },
    {
      "cell_type": "markdown",
      "source": [
        "# Game of Life\n",
        "\n",
        "In the Game of Life, a two-dimensional grid of cells is used to simulate the evolution of a population of cells over time. Each cell can be in one of two states: alive or dead. The state of each cell at a given time step is determined by the state of its neighbors in the previous time step, according to the following rules:\n",
        "\n",
        "- Any live cell with two or three live neighbors stays alive.\n",
        "- Any live cell with fewer than two live neighbors dies (underpopulation).\n",
        "- Any live cell with more than three live neighbors dies (overpopulation).\n",
        "- Any dead cell with exactly three live neighbors becomes alive (reproduction).\n",
        "\n",
        "The Game of Life is often used as a simple model for studying the behavior of complex systems and can exhibit a wide range of interesting and complex behaviors. It is also a popular subject for hobbyists and computer scientists to implement and play with."
      ],
      "metadata": {
        "id": "HXANFKyyjBo6"
      }
    },
    {
      "cell_type": "markdown",
      "source": [
        "# ChatGPT\n",
        "\n",
        "I wrote this program with the help of ChatGPT. It's in part to help explore the limits of this AI. On the other hand I'm attempting to learn how to incorporate AI into my workflow and still produce something useful.\n",
        "\n",
        "ChatGPT is helpful to get the scaffolding of things down without having to spend too much time searching. So, you'll find that the summary of Game of Life (above) is written by ChatGPT and the code for the displays are also. However, I kept writing the rules of the game myself -- though that is not very difficult.\n",
        "\n",
        "https://chat.openai.com/chat"
      ],
      "metadata": {
        "id": "gV52P6-_jM8M"
      }
    },
    {
      "cell_type": "markdown",
      "source": [
        "# Setup"
      ],
      "metadata": {
        "id": "YL-7_2VCnFmu"
      }
    },
    {
      "cell_type": "markdown",
      "source": [
        "### Import Libraries"
      ],
      "metadata": {
        "id": "njPysjFekIK_"
      }
    },
    {
      "cell_type": "code",
      "execution_count": null,
      "metadata": {
        "id": "hHThRmylR8hN"
      },
      "outputs": [],
      "source": [
        "# import necessary libraries\n",
        "import matplotlib.pyplot as plt\n",
        "import numpy as np\n",
        "import time\n",
        "import random\n",
        "from IPython.display import clear_output"
      ]
    },
    {
      "cell_type": "markdown",
      "source": [
        "### Set up basic Gridworld"
      ],
      "metadata": {
        "id": "L3ImIr1jkN3k"
      }
    },
    {
      "cell_type": "code",
      "source": [
        "# create an empty 10x10 array of zeros (black)\n",
        "grid = np.zeros((10,10))\n",
        "\n",
        "# set every other square to 1 (white)\n",
        "grid[::2,::2] = 1\n",
        "grid[1::2,1::2] = 1\n",
        "\n",
        "# plot the grid using imshow\n",
        "plt.imshow(grid, cmap='binary', interpolation='nearest')\n",
        "plt.show()"
      ],
      "metadata": {
        "colab": {
          "base_uri": "https://localhost:8080/",
          "height": 265
        },
        "id": "T8lyBAgpSmf_",
        "outputId": "4b3553ae-ae3e-4d39-9d71-320d1b5f861b"
      },
      "execution_count": null,
      "outputs": [
        {
          "output_type": "display_data",
          "data": {
            "text/plain": [
              "<Figure size 432x288 with 1 Axes>"
            ],
            "image/png": "[encoded data removed]"
          },
          "metadata": {
            "needs_background": "light"
          }
        }
      ]
    },
    {
      "cell_type": "markdown",
      "source": [
        "### Modify squares for setting a population"
      ],
      "metadata": {
        "id": "I5q_EoL-kVBj"
      }
    },
    {
      "cell_type": "code",
      "source": [
        "# create an empty 10x10 array of zeros (white)\n",
        "grid = np.zeros((10,10))\n",
        "\n",
        "# set a 2x2 square to 1 (black)\n",
        "grid[3:5,3:5] = 1\n",
        "\n",
        "# plot the grid using imshow\n",
        "plt.imshow(grid, cmap='binary', interpolation='nearest')\n",
        "plt.show()"
      ],
      "metadata": {
        "colab": {
          "base_uri": "https://localhost:8080/",
          "height": 265
        },
        "id": "KhzOejUeSqUe",
        "outputId": "3414ff99-229a-41a4-8b39-856e9e3f47b4"
      },
      "execution_count": null,
      "outputs": [
        {
          "output_type": "display_data",
          "data": {
            "text/plain": [
              "<Figure size 432x288 with 1 Axes>"
            ],
            "image/png": "[encoded data removed]"
          },
          "metadata": {
            "needs_background": "light"
          }
        }
      ]
    },
    {
      "cell_type": "markdown",
      "source": [
        "### Initialize a random population in Gridworld"
      ],
      "metadata": {
        "id": "46T8OLr7kc22"
      }
    },
    {
      "cell_type": "code",
      "source": [
        "# create an empty n x n array of zeros (white)\n",
        "max = 50\n",
        "grid = np.zeros((max,max))\n",
        "\n",
        "# initialize a random population (alive = 1; black)\n",
        "pop = 300\n",
        "for i in range(pop):\n",
        "    # generate random row and column indices\n",
        "    row = random.randint(0, max-1)\n",
        "    col = random.randint(0, max-1)\n",
        "    \n",
        "    # set the square at the random indices to 1 (black)\n",
        "    grid[row, col] = 1\n",
        "\n",
        "# plot the grid using imshow\n",
        "plt.imshow(grid, cmap='binary', interpolation='nearest')\n",
        "plt.show()"
      ],
      "metadata": {
        "colab": {
          "base_uri": "https://localhost:8080/",
          "height": 267
        },
        "id": "1n09igrlTANe",
        "outputId": "d7bd988d-d075-4f58-d457-605a52975608"
      },
      "execution_count": null,
      "outputs": [
        {
          "output_type": "display_data",
          "data": {
            "text/plain": [
              "<Figure size 432x288 with 1 Axes>"
            ],
            "image/png": "[encoded data removed]"
          },
          "metadata": {
            "needs_background": "light"
          }
        }
      ]
    },
    {
      "cell_type": "markdown",
      "source": [
        "# Play Game of Life\n",
        "\n",
        "Here we'll run Game of Life in a matplotlib plot so that it can be shown in Google Colab. Afterwards we'll write Tkinter code to run natively on the desktop and be smoother animation."
      ],
      "metadata": {
        "id": "UGJIcn9ckk-l"
      }
    },
    {
      "cell_type": "markdown",
      "source": [
        "### Rules of Game of Life\n",
        "\n",
        "- Any live cell with two or three live neighbors stays alive.\n",
        "- Any live cell with fewer than two live neighbors dies (underpopulation).\n",
        "- Any live cell with more than three live neighbors dies (overpopulation).\n",
        "- Any dead cell with exactly three live neighbors becomes alive (reproduction)."
      ],
      "metadata": {
        "id": "eO6gBI_KWPPQ"
      }
    },
    {
      "cell_type": "code",
      "source": [
        "# plot the grid using imshow\n",
        "plt.imshow(grid, cmap='binary', interpolation='nearest')\n",
        "plt.show()\n",
        "\n",
        "cycles = 50\n",
        "for i in range(cycles):\n",
        "  # pause the plot for 0.5 seconds\n",
        "  plt.pause(0.2)\n",
        "\n",
        "  # update the output\n",
        "  update = np.zeros((\n",
        "      grid.shape[0],\n",
        "      grid.shape[1]\n",
        "  ))\n",
        "\n",
        "  for row in range(grid.shape[0]):\n",
        "    for col in range(grid.shape[1]):\n",
        "      state = grid[row,col]\n",
        "      count = 0\n",
        "\n",
        "      # Top Row\n",
        "      if(row-1 > 0    and col-1 > 0    and grid[row-1,col-1] == 1): count+=1\n",
        "      if(row-1 > 0                     and grid[row-1,col  ] == 1): count+=1\n",
        "      if(row-1 > 0    and col+1 < max  and grid[row-1,col+1] == 1): count+=1\n",
        "\n",
        "      # Current Row\n",
        "      if(                 col-1 > 0    and grid[row  ,col-1] == 1): count+=1\n",
        "      # This\n",
        "      if(                 col+1 < max  and grid[row  ,col+1] == 1): count+=1\n",
        "\n",
        "      # Bottom Row\n",
        "      if(row+1 < max  and col-1 > 0    and grid[row+1,col-1] == 1): count+=1\n",
        "      if(row+1 < max                   and grid[row+1,col  ] == 1): count+=1\n",
        "      if(row+1 < max  and col+1 < max  and grid[row+1,col+1] == 1): count+=1\n",
        "\n",
        "      # Live or Die\n",
        "      if(state == 1 and (count > 3 or count < 2)): state = 0\n",
        "      elif(state == 0 and count == 3): state = 1\n",
        "      update[row,col] = state\n",
        "\n",
        "  # Update the board\n",
        "  grid = update\n",
        "\n",
        "  # plot the grid using imshow\n",
        "  clear_output(wait=True)\n",
        "  plt.imshow(grid, cmap='binary', interpolation='nearest')\n",
        "  plt.show()"
      ],
      "metadata": {
        "colab": {
          "base_uri": "https://localhost:8080/",
          "height": 267
        },
        "id": "_M689qYWeTOt",
        "outputId": "6f0b1c15-75c5-413b-fbb0-47429de242ed"
      },
      "execution_count": null,
      "outputs": [
        {
          "output_type": "display_data",
          "data": {
            "text/plain": [
              "<Figure size 432x288 with 1 Axes>"
            ],
            "image/png": "[encoded data removed]"
          },
          "metadata": {
            "needs_background": "light"
          }
        }
      ]
    },
    {
      "cell_type": "markdown",
      "source": [
        "# Tkinter for Display"
      ],
      "metadata": {
        "id": "wMIH5a3jnMCO"
      }
    },
    {
      "cell_type": "code",
      "source": [
        "import tkinter as tk\n",
        "\n",
        "# Create the main window\n",
        "root = tk.Tk()\n",
        "\n",
        "# Create a canvas to hold the squares\n",
        "size = 200\n",
        "canvas = tk.Canvas(root, width=size, height=size)\n",
        "canvas.pack()\n",
        "\n",
        "# Create a grid of squares\n",
        "max = 10\n",
        "unit = size / max\n",
        "for i in range(max):\n",
        "    for j in range(max):\n",
        "        # Determine the color of the square\n",
        "        if (i + j) % 2 == 0:\n",
        "            color = \"white\"\n",
        "        else:\n",
        "            color = \"black\"\n",
        "        # Draw the square on the canvas\n",
        "        x1 = i * unit\n",
        "        y1 = j * unit\n",
        "        x2 = x1 + unit\n",
        "        y2 = y1 + unit\n",
        "        canvas.create_rectangle(x1, y1, x2, y2, fill=color)\n",
        "\n",
        "# Run the main loop\n",
        "root.mainloop()"
      ],
      "metadata": {
        "id": "p8p7YVnknPA1"
      },
      "execution_count": null,
      "outputs": []
    },
    {
      "cell_type": "markdown",
      "source": [
        "![image.png](data:image/png;base64,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)"
      ],
      "metadata": {
        "id": "Ws57DSWLpSQN"
      }
    },
    {
      "cell_type": "markdown",
      "source": [
        "From here we can rewrite the code to use tkinter as the display function."
      ],
      "metadata": {
        "id": "YfY4RR8rq3NP"
      }
    },
    {
      "cell_type": "code",
      "source": [
        "import tkinter as tk\n",
        "import numpy as np\n",
        "import time\n",
        "import random\n",
        "\n",
        "# Create the main window\n",
        "root = tk.Tk()\n",
        "\n",
        "# Create a canvas to hold the squares\n",
        "size = 200\n",
        "canvas = tk.Canvas(root, width=size, height=size)\n",
        "canvas.pack()\n",
        "\n",
        "# Create a grid of squares\n",
        "max = 10\n",
        "unit = size / max\n",
        "grid = np.zeros((max,max))\n",
        "\n",
        "# Initialization\n",
        "pop = int(0.45 * max * max)\n",
        "for i in range(pop):\n",
        "    # generate random row and column indices\n",
        "    row = random.randint(0, max-1)\n",
        "    col = random.randint(0, max-1)\n",
        "    \n",
        "    # set the square at the random indices to 1 (black)\n",
        "    grid[row, col] = 1\n",
        "\n",
        "# Define a function to update the canvas\n",
        "def update_canvas():\n",
        "    global grid\n",
        "\n",
        "    # Update the output\n",
        "    update = np.zeros((max,max))\n",
        "\n",
        "    for row in range(max):\n",
        "        for col in range(max):\n",
        "            state = grid[row,col]\n",
        "            count = 0\n",
        "\n",
        "            # Top Row\n",
        "            if(row-1 > 0    and col-1 > 0    and grid[row-1,col-1] == 1): count+=1\n",
        "            if(row-1 > 0                     and grid[row-1,col  ] == 1): count+=1\n",
        "            if(row-1 > 0    and col+1 < max  and grid[row-1,col+1] == 1): count+=1\n",
        "\n",
        "            # Current Row\n",
        "            if(                 col-1 > 0    and grid[row  ,col-1] == 1): count+=1\n",
        "            # This\n",
        "            if(                 col+1 < max  and grid[row  ,col+1] == 1): count+=1\n",
        "\n",
        "            # Bottom Row\n",
        "            if(row+1 < max  and col-1 > 0    and grid[row+1,col-1] == 1): count+=1\n",
        "            if(row+1 < max                   and grid[row+1,col  ] == 1): count+=1\n",
        "            if(row+1 < max  and col+1 < max  and grid[row+1,col+1] == 1): count+=1\n",
        "\n",
        "            # Live or Die\n",
        "            if(state == 1 and (count > 3 or count < 2)): state = 0\n",
        "            elif(state == 0 and count == 3): state = 1\n",
        "            update[row,col] = state\n",
        "\n",
        "            if update[row,col] == 0:\n",
        "                color = \"white\"\n",
        "            else:\n",
        "                color = \"black\"\n",
        "\n",
        "            # Draw the square on the canvas\n",
        "            x1 = row * unit\n",
        "            y1 = col * unit\n",
        "            x2 = x1 + unit\n",
        "            y2 = y1 + unit\n",
        "            canvas.create_rectangle(x1, y1, x2, y2, fill=color)\n",
        "\n",
        "    # Update the board\n",
        "    grid = update\n",
        "\n",
        "    # Schedule the next update\n",
        "    root.after(200, update_canvas)\n",
        "\n",
        "# Schedule the first update\n",
        "root.after(200, update_canvas)\n",
        "\n",
        "# Run the main loop\n",
        "root.mainloop()"
      ],
      "metadata": {
        "id": "46eP_hiJpUdj"
      },
      "execution_count": null,
      "outputs": []
    },
    {
      "cell_type": "markdown",
      "source": [
        "![image.png](data:image/png;base64,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)"
      ],
      "metadata": {
        "id": "rShat4M2rBtz"
      }
    },
    {
      "cell_type": "markdown",
      "source": [
        "## Optimize"
      ],
      "metadata": {
        "id": "jHdeqH7H1ZT5"
      }
    },
    {
      "cell_type": "code",
      "source": [
        "import tkinter as tk\n",
        "import numpy as np\n",
        "import random\n",
        "\n",
        "# Create the main window\n",
        "root = tk.Tk()\n",
        "\n",
        "# Create a canvas to hold the squares\n",
        "size = 200\n",
        "canvas = tk.Canvas(root, width=size, height=size)\n",
        "canvas.pack()\n",
        "\n",
        "# Create a grid of squares\n",
        "max = 40\n",
        "unit = int(size / max)\n",
        "grid = np.zeros((max,max))\n",
        "\n",
        "# Initialization\n",
        "pop = int(0.45 * max * max)\n",
        "for i in range(pop):\n",
        "    # generate random row and column indices\n",
        "    row = random.randint(0, max-1)\n",
        "    col = random.randint(0, max-1)\n",
        "    \n",
        "    # set the square at the random indices to 1 (black)\n",
        "    grid[row, col] = 1\n",
        "\n",
        "# Create a PhotoImage object with a white and a black pixel\n",
        "white = tk.PhotoImage(width=unit, height=unit)\n",
        "white.put(\"#ffffff\", (0, 0))\n",
        "white = white.zoom(unit, unit)\n",
        "\n",
        "black = tk.PhotoImage(width=unit, height=unit)\n",
        "black.put(\"#000000\", (0, 0))\n",
        "black = black.zoom(unit, unit)\n",
        "\n",
        "# Define a function to update the canvas\n",
        "def update_canvas():\n",
        "    global grid\n",
        "\n",
        "    # Update the output\n",
        "    update = np.zeros((max,max))\n",
        "\n",
        "    for row in range(max):\n",
        "        for col in range(max):\n",
        "            state = grid[row,col]\n",
        "            count = 0\n",
        "\n",
        "            # Top Row\n",
        "            if(row-1 > 0    and col-1 > 0    and grid[row-1,col-1] == 1): count+=1\n",
        "            if(row-1 > 0                     and grid[row-1,col  ] == 1): count+=1\n",
        "            if(row-1 > 0    and col+1 < max  and grid[row-1,col+1] == 1): count+=1\n",
        "\n",
        "            # Current Row\n",
        "            if(                 col-1 > 0    and grid[row  ,col-1] == 1): count+=1\n",
        "            # This\n",
        "            if(                 col+1 < max  and grid[row  ,col+1] == 1): count+=1\n",
        "\n",
        "            # Bottom Row\n",
        "            if(row+1 < max  and col-1 > 0    and grid[row+1,col-1] == 1): count+=1\n",
        "            if(row+1 < max                   and grid[row+1,col  ] == 1): count+=1\n",
        "            if(row+1 < max  and col+1 < max  and grid[row+1,col+1] == 1): count+=1\n",
        "\n",
        "            # Live or Die\n",
        "            if(state == 1 and (count > 3 or count < 2)): state = 0\n",
        "            elif(state == 0 and count == 3): state = 1\n",
        "            update[row,col] = state\n",
        "\n",
        "            if update[row,col] == 0:\n",
        "                image = white\n",
        "            else:\n",
        "                image = black\n",
        "\n",
        "            # Draw the square on the canvas\n",
        "            x1 = row * unit\n",
        "            y1 = col * unit\n",
        "\n",
        "            if(grid[row,col] != update[row,col]):\n",
        "                canvas.create_image(x1, y1, image=image, anchor=tk.NW)\n",
        "\n",
        "    # Update the board\n",
        "    grid = update\n",
        "\n",
        "    # Schedule the next update\n",
        "    root.after(250, lambda: root.after_idle(update_canvas))\n",
        "\n",
        "# Schedule the first update\n",
        "root.after(250, lambda: root.after_idle(update_canvas))\n",
        "\n",
        "# Run the main loop\n",
        "root.mainloop()"
      ],
      "metadata": {
        "id": "BwJGcylE1Yz6"
      },
      "execution_count": null,
      "outputs": []
    },
    {
      "cell_type": "markdown",
      "source": [
        "![image.png](data:image/png;base64,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)"
      ],
      "metadata": {
        "id": "hqP4AIvJ1dFK"
      }
    },
    {
      "cell_type": "markdown",
      "source": [
        "# Switch to C++\n",
        "\n",
        "This was running too slow. So I switched to C++ using the SFML graphics library.\n",
        "\n",
        "Using ChatGPT, I rewrote the above code to: https://github.com/zanzivyr/game-of-life/blob/main/SFML%20Learning.cpp\n"
      ],
      "metadata": {
        "id": "JJuc_Bjw33HA"
      }
    },
    {
      "cell_type": "markdown",
      "source": [
        "![image.png](data:image/png;base64,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)"
      ],
      "metadata": {
        "id": "RKcTuRpx15Mw"
      }
    },
    {
      "cell_type": "code",
      "source": [],
      "metadata": {
        "id": "DK-I5skBQzey"
      },
      "execution_count": null,
      "outputs": []
    }
  ]
}